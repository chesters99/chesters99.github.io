{
 "cells": [
  {
   "cell_type": "markdown",
   "metadata": {},
   "source": [
    "# CS498 Data Visualisation - Final Project Data Pre-processing\n",
    "## United States Health Inequality data pre-processing\n",
    "\n",
    "**Author: Graham Chester**\n",
    "\n",
    "**Date: 20-Jul-2018**\n",
    "\n",
    "This Jupyter notebook takes two main datasets (health by city, life expectancy by county), and two value-mapping datasets, and wrangles them into a single CSV file (health.csv) suitable for use by D3 visualisation.\n",
    "\n",
    "The datasets used are:\n",
    "\n",
    "1) Center for Disease control 500 Cities health data, sourced from CDC 500 Cities portal: https://chronicdata.cdc.gov/500-Cities/500-Cities-Local-Data-for-Better-Health-2017-relea/6vp6-wxuq\n",
    "\n",
    "2) Life Expectancy by income dataset, sourced from the Health Inequality Project https://healthinequality.org/data/\n",
    "\n",
    "3) City to lat, long, FIPS mapping dataset, sourced from SimpleMaps https://simplemaps.com/data/us-cities)\n",
    "\n",
    "4) Commuting Zone to FIPS mapping dataset, sourced from IPUMS census data https://usa.ipums.org/usa/volii/1990LMAascii.txt"
   ]
  },
  {
   "cell_type": "markdown",
   "metadata": {},
   "source": [
    "## Imports and convenient display settings"
   ]
  },
  {
   "cell_type": "code",
   "execution_count": 42,
   "metadata": {},
   "outputs": [],
   "source": [
    "import pandas as pd\n",
    "import numpy as np\n",
    "import matplotlib.pyplot as plt\n",
    "from sklearn.model_selection import train_test_split\n",
    "from sklearn.preprocessing import StandardScaler\n",
    "from sklearn.svm import LinearSVC\n",
    "import seaborn as sns\n",
    "\n",
    "%matplotlib inline\n",
    "\n",
    "# set Jupyter to display ALL output from a cell (not just last output)\n",
    "from IPython.core.interactiveshell import InteractiveShell\n",
    "InteractiveShell.ast_node_interactivity = 'all'\n",
    "\n",
    "# set pandas and numpy options to make print format nicer\n",
    "pd.set_option('display.width',110); pd.set_option('display.max_columns',100)\n",
    "pd.set_option('display.max_colwidth', 200); pd.set_option('display.max_rows', 500)\n",
    "np.set_printoptions(linewidth=100, threshold=5000, edgeitems=10, suppress=True)"
   ]
  },
  {
   "cell_type": "markdown",
   "metadata": {},
   "source": [
    "## Read CDC 500 Cities health dataset, filter and reshape \n",
    "1) Read dataset with only required fields (for performance as dataset is 230MB)\n",
    "\n",
    "2) Clean up data types, names and filter for required rows\n",
    "\n",
    "3) Rename columns with more information for better display in d3\n",
    "\n",
    "4) Pivot so there is one row per city with many measure"
   ]
  },
  {
   "cell_type": "code",
   "execution_count": 43,
   "metadata": {},
   "outputs": [
    {
     "data": {
      "text/plain": [
       "(810103, 11)"
      ]
     },
     "execution_count": 43,
     "metadata": {},
     "output_type": "execute_result"
    },
    {
     "data": {
      "text/plain": [
       "(14028, 11)"
      ]
     },
     "execution_count": 43,
     "metadata": {},
     "output_type": "execute_result"
    },
    {
     "data": {
      "text/plain": [
       "(501, 30)"
      ]
     },
     "execution_count": 43,
     "metadata": {},
     "output_type": "execute_result"
    },
    {
     "data": {
      "text/plain": [
       "(501, 32)"
      ]
     },
     "execution_count": 43,
     "metadata": {},
     "output_type": "execute_result"
    }
   ],
   "source": [
    "# only read in the required columns as dataset is large\n",
    "columns = ['StateAbbr','StateDesc','CityName','GeographicLevel','Data_Value','Data_Value_Type','PopulationCount',\n",
    "           'CityFIPS','Short_Question_Text', 'Category', 'Measure']\n",
    "\n",
    "health_R = pd.read_csv('data/500_Cities.csv', dtype={'CityFIPS': str}, usecols=columns, na_filter=True)\n",
    "\n",
    "# change the United States total row so it behaves like a state when visualising\n",
    "health_R.loc[health_R.StateDesc=='United States', \"CityName\"] = \"United States\"\n",
    "health_R.loc[health_R.StateDesc=='United States', \"StateDesc\"] = \"Average\"\n",
    "health_R.shape\n",
    "# health_R.head(1)\n",
    "\n",
    "# we only need non-adusted numbers, and only for cities not electoral areas\n",
    "health_F = health_R[(health_R.Data_Value_Type=='Crude prevalence') & \n",
    "                    (health_R.GeographicLevel.isin(['City','US'])) ]\n",
    "health_F.shape\n",
    "\n",
    "# pivot so that we have columns for all the health measures, instead of a row for each\n",
    "health_P = pd.pivot_table(health_F, values='Data_Value', index=['StateDesc', 'CityName'], \n",
    "                          columns=['Short_Question_Text'], aggfunc=np.sum).reset_index()\n",
    "health_P.shape\n",
    "\n",
    "# merge with fields from original dataset to get overall health row\n",
    "health = pd.merge(health_P, health_F[['StateDesc','CityName','CityFIPS','PopulationCount']].drop_duplicates(),\n",
    "                  how='left', on=['StateDesc','CityName'])\n",
    "health.shape\n",
    "# health.head(2)\n",
    "\n",
    "# subjectively assign weights to each preventative measure (negative), unhealthy behaviour and health outcome\n",
    "weights = {\n",
    "           'Health Insurance':        6,\n",
    "           'Arthritis':               3,\n",
    "           'Binge Drinking':          6,\n",
    "           'High Blood Pressure':     7,\n",
    "           'Taking BP Medication':    3,\n",
    "           'Cancer (except skin)':   10,\n",
    "           'Current Asthma':          4,\n",
    "           'Coronary Heart Disease': 10,\n",
    "           'Annual Checkup':         -3,\n",
    "           'Cholesterol Screening':  -3,\n",
    "           'Colorectal Cancer Screening': -2,\n",
    "           'COPD'                       : 10,\n",
    "           'Core preventive services for older men':   -3,\n",
    "           'Core preventive services for older women': -3,\n",
    "           'Current Smoking':         7,\n",
    "           'Dental Visit':           -1,\n",
    "           'Diabetes':                8,\n",
    "           'High Cholesterol':        6,\n",
    "           'Chronic Kidney Disease':  8,\n",
    "           'Physical Inactivity':     3,\n",
    "           'Mammography':            -2,\n",
    "           'Mental Health':           6,\n",
    "           'Obesity':                 7,\n",
    "           'Pap Smear Test':         -2,\n",
    "           'Sleep < 7 hours':         2,\n",
    "           'Physical Health':         5,\n",
    "           'Stroke':                  9,\n",
    "           'Teeth Loss':              1,\n",
    "          }\n",
    "\n",
    "# calculate health score for a city as a rating with 0 (worst) to 100 (best)\n",
    "columns = list(health_F.Short_Question_Text.unique())\n",
    "health['health_score'] = health[columns].mul(pd.Series(weights), axis=1).sum(axis=1)\n",
    "\n",
    "health['health_score'] = health.health_score - health.health_score.min()\n",
    "health['health_score'] = (98 * (1 - health.health_score / health.health_score.max()) +1).astype(int)\n",
    "\n",
    "health['Health Insurance'] = 100 - health['Health Insurance']\n",
    "\n",
    "# population should be integer\n",
    "health['PopulationCount'] = health.PopulationCount.astype(int)\n",
    "# health.head(2)\n"
   ]
  },
  {
   "cell_type": "markdown",
   "metadata": {},
   "source": [
    "## Add City and county details to health dataframe for each city\n",
    "1) Read US Cities data file. \n",
    "\n",
    "2) Append latitude, longitude, county FIPS to the above health dataframe (so can be joined with life dataframe)"
   ]
  },
  {
   "cell_type": "code",
   "execution_count": 44,
   "metadata": {},
   "outputs": [
    {
     "data": {
      "text/plain": [
       "(501, 39)"
      ]
     },
     "execution_count": 44,
     "metadata": {},
     "output_type": "execute_result"
    }
   ],
   "source": [
    "# read us cities data\n",
    "uscities = pd.read_csv('data/uscitiesLatLongFIPS.csv', dtype={'PlaceFP':str, 'county_fips':str})\n",
    "# uscities.head(2)\n",
    "\n",
    "# reformat fields to not lose leading zeroes, and to corrent spelling of prefixes\n",
    "uscities['county_fips'] = uscities.county_fips.apply('{:0>5}'.format)\n",
    "uscities['city_ascii']  = uscities.city_ascii.str.replace('Saint', 'St.')\n",
    "\n",
    "# merge city details with health dataframe\n",
    "health = pd.merge(health, uscities[['city_ascii', 'state_name','lat','lng', 'county_fips','county_name']], \n",
    "                  how='left', left_on=['StateDesc','CityName'], right_on=['state_name','city_ascii'])\n",
    "\n",
    "# change lat and long onUnited States row so d3 can place properly on screen\n",
    "health.loc[health.CityName=='United States', 'lat'] =  51.1\n",
    "health.loc[health.CityName=='United States', 'lng'] = -92.3\n",
    "health.shape\n",
    "# health.head(2)"
   ]
  },
  {
   "cell_type": "markdown",
   "metadata": {},
   "source": [
    "## Read life expectancy by income dataset and pre-process\n",
    "1) Read life expectancy by income range dataset\n",
    "\n",
    "2) Rename colums for ease, and calculate various average life expectacies and disparity with income"
   ]
  },
  {
   "cell_type": "code",
   "execution_count": 45,
   "metadata": {
    "scrolled": false
   },
   "outputs": [
    {
     "data": {
      "text/plain": [
       "(595, 20)"
      ]
     },
     "execution_count": 45,
     "metadata": {},
     "output_type": "execute_result"
    }
   ],
   "source": [
    "# read into dataframe only the required columns\n",
    "life = pd.read_csv('data/health_ineq_all_online_tables.csv', skiprows=6,\n",
    "                   usecols=['cz','czname','statename','stateabbrv', 'le_agg_q1_F', 'le_agg_q2_F', 'le_agg_q3_F', \n",
    "                            'le_agg_q4_F', 'le_agg_q1_M', 'le_agg_q2_M', 'le_agg_q3_M', 'le_agg_q4_M', ])\n",
    "\n",
    "# better names for colums for easier understanding in d3\n",
    "life = life.rename(columns={'le_agg_q1_F': 'life_q1_f', 'le_agg_q2_F': 'life_q2_f', \n",
    "                            'le_agg_q3_F': 'life_q3_f', 'le_agg_q4_F': 'life_q4_f',\n",
    "                            'le_agg_q1_M': 'life_q1_m', 'le_agg_q2_M': 'life_q2_m',\n",
    "                            'le_agg_q3_M': 'life_q3_m', 'le_agg_q4_M': 'life_q4_m',})\n",
    "\n",
    "# calculate average life expectancies for male, female, overall, and for top and bottom 25% income earners\n",
    "life['expectancy_f'] = life[['life_q1_f', 'life_q2_f', 'life_q3_f', 'life_q4_f']].mean(axis=1).round(1)\n",
    "life['expectancy_m'] = life[['life_q1_m', 'life_q2_m', 'life_q3_m', 'life_q4_m']].mean(axis=1).round(1)\n",
    "life['expectancy_top25'] = (life['life_q4_f']/2 + life['life_q4_m']/2).round(1)\n",
    "life['expectancy_bot25'] = (life['life_q1_f']/2 + life['life_q1_m']/2).round(1)\n",
    "life['expectancy_avg'] = (life['expectancy_f']/2 + life['expectancy_m']/2).round(1)\n",
    "\n",
    "\n",
    "# calculate the disparity in life expectancy between top and bottom income earners\n",
    "life['disparity_m']  = (life['life_q4_m'] - life['life_q1_m']).round(1)\n",
    "life['disparity_f']  = (life['life_q4_f'] - life['life_q1_f']).round(1)\n",
    "life['disparity_avg']  = (life['expectancy_top25'] - life['expectancy_bot25']).round(1)\n",
    "life = life.dropna(axis=0, how='all')\n",
    "life.shape\n",
    "# life.head(2)"
   ]
  },
  {
   "cell_type": "markdown",
   "metadata": {},
   "source": [
    "## Add county FIPS code to life expectancy dataset\n",
    "1) Read commuting zone to county FIPS mapping dataset\n",
    "\n",
    "2) Add county FIPS code to life expectancy data\n",
    "\n",
    "3) Drop non-required fields"
   ]
  },
  {
   "cell_type": "code",
   "execution_count": 46,
   "metadata": {
    "scrolled": false
   },
   "outputs": [
    {
     "data": {
      "text/plain": [
       "(3141, 6)"
      ]
     },
     "execution_count": 46,
     "metadata": {},
     "output_type": "execute_result"
    },
    {
     "data": {
      "text/plain": [
       "(2857, 22)"
      ]
     },
     "execution_count": 46,
     "metadata": {},
     "output_type": "execute_result"
    }
   ],
   "source": [
    "cz_FIPS = pd.read_csv('data/1990LMAascii.csv',sep='\\t', dtype={'FIPS': str})\n",
    "cz_FIPS = cz_FIPS[cz_FIPS['County Name'] != 'Market Area Total']\n",
    "cz_FIPS['stateabbrv'] = cz_FIPS['County Name'].str[-2:]\n",
    "cz_FIPS.shape\n",
    "# cz_FIPS.head(2)\n",
    "\n",
    "# life = pd.merge(life, cz_FIPS, how='left', left_on=['stateabbrv','cz'], right_on=['stateabbrv','LMA/CZ'])\n",
    "life = pd.merge(life, cz_FIPS, how='left', left_on=['cz'], right_on=['LMA/CZ'])\n",
    "# life.head(1)\n",
    "life = life.drop(['Total Population', 'Labor Force','County Name','LMA/CZ'], axis=1)\n",
    "life.shape\n",
    "# life.head(2)"
   ]
  },
  {
   "cell_type": "markdown",
   "metadata": {},
   "source": [
    "## Merge health and life expectancy datasets\n",
    "\n",
    "1) Merge datasets by county - note that city level life expectancy data was not available, however in most relevant cases US counties are small and cover one or just a few similar cities.\n",
    "\n",
    "2) Calculate the mean life expectancies for the United States row\n",
    "\n",
    "3) Save to CSV\n",
    "\n",
    "4) Check for any NaN values (should just be the US overall row)"
   ]
  },
  {
   "cell_type": "code",
   "execution_count": 47,
   "metadata": {
    "scrolled": false
   },
   "outputs": [
    {
     "data": {
      "text/plain": [
       "(501, 61)"
      ]
     },
     "execution_count": 47,
     "metadata": {},
     "output_type": "execute_result"
    },
    {
     "data": {
      "text/html": [
       "<div>\n",
       "<style scoped>\n",
       "    .dataframe tbody tr th:only-of-type {\n",
       "        vertical-align: middle;\n",
       "    }\n",
       "\n",
       "    .dataframe tbody tr th {\n",
       "        vertical-align: top;\n",
       "    }\n",
       "\n",
       "    .dataframe thead th {\n",
       "        text-align: right;\n",
       "    }\n",
       "</style>\n",
       "<table border=\"1\" class=\"dataframe\">\n",
       "  <thead>\n",
       "    <tr style=\"text-align: right;\">\n",
       "      <th></th>\n",
       "      <th>StateDesc</th>\n",
       "      <th>CityName</th>\n",
       "      <th>1P:No Annual Checkup:Visits to doctor for routine checkup within the past Year among adults aged &gt;=18 Years</th>\n",
       "      <th>3O:Arthritis:Arthritis among adults aged &gt;=18 Years</th>\n",
       "      <th>2B:Binge Drinking:Binge drinking among adults aged &gt;=18 Years</th>\n",
       "      <th>3O:Chronic Pulmonary Disease:Chronic obstructive pulmonary disease among adults aged &gt;=18 Years</th>\n",
       "      <th>3O:Cancer:Cancer (excluding skin cancer) among adults aged &gt;=18 Years</th>\n",
       "      <th>1P:No Cholesterol Screening:Cholesterol screening among adults aged &gt;=18 Years</th>\n",
       "      <th>3O:Chronic Kidney Disease:Chronic kidney disease among adults aged &gt;=18 Years</th>\n",
       "      <th>1P:No Colorectal Cancer Screening:Fecal occult blood test, sigmoidoscopy, or colonoscopy among adults aged 50–75 Years</th>\n",
       "      <th>1P:No Preventive services-older men:Older adult men aged &gt;=65 Years who are up to date on a core set of clinical preventive services: Flu shot past Year, PPV shot ever, Colorectal cancer screening</th>\n",
       "      <th>1P:No Preventive services-older women:Older adult women aged &gt;=65 Years who are up to date on a core set of clinical preventive services: Flu shot past Year, PPV shot ever, Colorectal cancer screening, and Mammogram past 2 Years</th>\n",
       "      <th>3O:Coronary Heart Disease:Coronary heart disease among adults aged &gt;=18 Years</th>\n",
       "      <th>3O:Asthma:Current asthma among adults aged &gt;=18 Years</th>\n",
       "      <th>2B:Current Smoking:Current smoking among adults aged &gt;=18 Years</th>\n",
       "      <th>1P:No Dental Visit:Visits to dentist or dental clinic among adults aged &gt;=18 Years</th>\n",
       "      <th>3O:Diabetes:Diagnosed diabetes among adults aged &gt;=18 Years</th>\n",
       "      <th>1P:No Health Insurance:Current lack of health insurance among adults aged 18–64 Years</th>\n",
       "      <th>3O:High Blood Pressure:High blood pressure among adults aged &gt;=18 Years</th>\n",
       "      <th>3O:High Cholesterol:High cholesterol among adults aged &gt;=18 Years who have been screened in the past 5 Years</th>\n",
       "      <th>1P:No Mammography:Mammography use among women aged 50–74 Years</th>\n",
       "      <th>3O:Mental Health:Mental health not good for &gt;=14 days among adults aged &gt;=18 Years</th>\n",
       "      <th>2B:Obesity:Obesity among adults aged &gt;=18 Years</th>\n",
       "      <th>1P:No Pap Smear Test:Papanicolaou smear use among adult women aged 21–65 Years</th>\n",
       "      <th>3O:Physical Health:Physical health not good for &gt;=14 days among adults aged &gt;=18 Years</th>\n",
       "      <th>2B:Physical Inactivity:No leisure-time physical activity among adults aged &gt;=18 Years</th>\n",
       "      <th>2B:Sleep &lt; 7 hours:Sleeping less than 7 hours among adults aged &gt;=18 Years</th>\n",
       "      <th>3O:Stroke:Stroke among adults aged &gt;=18 Years</th>\n",
       "      <th>1P:Not Taking BP Medication:Taking medicine for high blood pressure control among adults aged &gt;=18 Years with high blood pressure</th>\n",
       "      <th>3O:All Teeth Lost:All teeth lost among adults aged &gt;=65 Years</th>\n",
       "      <th>CityFIPS</th>\n",
       "      <th>PopulationCount</th>\n",
       "      <th>health_score</th>\n",
       "      <th>city_ascii</th>\n",
       "      <th>state_name</th>\n",
       "      <th>lat</th>\n",
       "      <th>lng</th>\n",
       "      <th>county_fips</th>\n",
       "      <th>county_name</th>\n",
       "      <th>cz</th>\n",
       "      <th>czname</th>\n",
       "      <th>statename</th>\n",
       "      <th>stateabbrv_x</th>\n",
       "      <th>life_q1_f</th>\n",
       "      <th>life_q2_f</th>\n",
       "      <th>life_q3_f</th>\n",
       "      <th>life_q4_f</th>\n",
       "      <th>life_q1_m</th>\n",
       "      <th>life_q2_m</th>\n",
       "      <th>life_q3_m</th>\n",
       "      <th>life_q4_m</th>\n",
       "      <th>expectancy_f</th>\n",
       "      <th>expectancy_m</th>\n",
       "      <th>4L:Life Expectancy Top 25%:Life expectancy in years, Top Quartile Income</th>\n",
       "      <th>4L:Life Expectancy Bot 25%:Life expectancy in years, Bottom Quartile Income</th>\n",
       "      <th>4L:Life Expectancy Average: Average Life Expectancy in Years</th>\n",
       "      <th>disparity_m</th>\n",
       "      <th>disparity_f</th>\n",
       "      <th>disparity_avg</th>\n",
       "      <th>FIPS</th>\n",
       "      <th>stateabbrv_y</th>\n",
       "      <th>health_rank</th>\n",
       "    </tr>\n",
       "    <tr>\n",
       "      <th>id</th>\n",
       "      <th></th>\n",
       "      <th></th>\n",
       "      <th></th>\n",
       "      <th></th>\n",
       "      <th></th>\n",
       "      <th></th>\n",
       "      <th></th>\n",
       "      <th></th>\n",
       "      <th></th>\n",
       "      <th></th>\n",
       "      <th></th>\n",
       "      <th></th>\n",
       "      <th></th>\n",
       "      <th></th>\n",
       "      <th></th>\n",
       "      <th></th>\n",
       "      <th></th>\n",
       "      <th></th>\n",
       "      <th></th>\n",
       "      <th></th>\n",
       "      <th></th>\n",
       "      <th></th>\n",
       "      <th></th>\n",
       "      <th></th>\n",
       "      <th></th>\n",
       "      <th></th>\n",
       "      <th></th>\n",
       "      <th></th>\n",
       "      <th></th>\n",
       "      <th></th>\n",
       "      <th></th>\n",
       "      <th></th>\n",
       "      <th></th>\n",
       "      <th></th>\n",
       "      <th></th>\n",
       "      <th></th>\n",
       "      <th></th>\n",
       "      <th></th>\n",
       "      <th></th>\n",
       "      <th></th>\n",
       "      <th></th>\n",
       "      <th></th>\n",
       "      <th></th>\n",
       "      <th></th>\n",
       "      <th></th>\n",
       "      <th></th>\n",
       "      <th></th>\n",
       "      <th></th>\n",
       "      <th></th>\n",
       "      <th></th>\n",
       "      <th></th>\n",
       "      <th></th>\n",
       "      <th></th>\n",
       "      <th></th>\n",
       "      <th></th>\n",
       "      <th></th>\n",
       "      <th></th>\n",
       "      <th></th>\n",
       "      <th></th>\n",
       "      <th></th>\n",
       "      <th></th>\n",
       "      <th></th>\n",
       "    </tr>\n",
       "  </thead>\n",
       "  <tbody>\n",
       "  </tbody>\n",
       "</table>\n",
       "</div>"
      ],
      "text/plain": [
       "Empty DataFrame\n",
       "Columns: [StateDesc, CityName, 1P:No Annual Checkup:Visits to doctor for routine checkup within the past Year among adults aged >=18 Years, 3O:Arthritis:Arthritis among adults aged >=18 Years, 2B:Binge Drinking:Binge drinking among adults aged >=18 Years, 3O:Chronic Pulmonary Disease:Chronic obstructive pulmonary disease among adults aged >=18 Years, 3O:Cancer:Cancer (excluding skin cancer) among adults aged >=18 Years, 1P:No Cholesterol Screening:Cholesterol screening among adults aged >=18 Years, 3O:Chronic Kidney Disease:Chronic kidney disease among adults aged >=18 Years, 1P:No Colorectal Cancer Screening:Fecal occult blood test, sigmoidoscopy, or colonoscopy among adults aged 50–75 Years, 1P:No Preventive services-older men:Older adult men aged >=65 Years who are up to date on a core set of clinical preventive services: Flu shot past Year, PPV shot ever, Colorectal cancer screening, 1P:No Preventive services-older women:Older adult women aged >=65 Years who are up to date on a core set of clinical preventive services: Flu shot past Year, PPV shot ever, Colorectal cancer screening, and Mammogram past 2 Years, 3O:Coronary Heart Disease:Coronary heart disease among adults aged >=18 Years, 3O:Asthma:Current asthma among adults aged >=18 Years, 2B:Current Smoking:Current smoking among adults aged >=18 Years, 1P:No Dental Visit:Visits to dentist or dental clinic among adults aged >=18 Years, 3O:Diabetes:Diagnosed diabetes among adults aged >=18 Years, 1P:No Health Insurance:Current lack of health insurance among adults aged 18–64 Years, 3O:High Blood Pressure:High blood pressure among adults aged >=18 Years, 3O:High Cholesterol:High cholesterol among adults aged >=18 Years who have been screened in the past 5 Years, 1P:No Mammography:Mammography use among women aged 50–74 Years, 3O:Mental Health:Mental health not good for >=14 days among adults aged >=18 Years, 2B:Obesity:Obesity among adults aged >=18 Years, 1P:No Pap Smear Test:Papanicolaou smear use among adult women aged 21–65 Years, 3O:Physical Health:Physical health not good for >=14 days among adults aged >=18 Years, 2B:Physical Inactivity:No leisure-time physical activity among adults aged >=18 Years, 2B:Sleep < 7 hours:Sleeping less than 7 hours among adults aged >=18 Years, 3O:Stroke:Stroke among adults aged >=18 Years, 1P:Not Taking BP Medication:Taking medicine for high blood pressure control among adults aged >=18 Years with high blood pressure, 3O:All Teeth Lost:All teeth lost among adults aged >=65 Years, CityFIPS, PopulationCount, health_score, city_ascii, state_name, lat, lng, county_fips, county_name, cz, czname, statename, stateabbrv_x, life_q1_f, life_q2_f, life_q3_f, life_q4_f, life_q1_m, life_q2_m, life_q3_m, life_q4_m, expectancy_f, expectancy_m, 4L:Life Expectancy Top 25%:Life expectancy in years, Top Quartile Income, 4L:Life Expectancy Bot 25%:Life expectancy in years, Bottom Quartile Income, 4L:Life Expectancy Average: Average Life Expectancy in Years, disparity_m, disparity_f, disparity_avg, FIPS, stateabbrv_y, health_rank]\n",
       "Index: []"
      ]
     },
     "execution_count": 47,
     "metadata": {},
     "output_type": "execute_result"
    }
   ],
   "source": [
    "# merge health and life datasets by county FIPS code\n",
    "total = pd.merge(health, life, how='left', left_on=['county_fips'], right_on=['FIPS'])\n",
    "total = total.sort_values(['CityName','StateDesc'])\n",
    "\n",
    "# calculate mean life expectancy data for United States overall\n",
    "usa_means = life.mean(axis=0) \n",
    "total.loc[total.CityName=='United States', usa_means.index[1:-1]] = np.round(usa_means[1:-1].values,1)\n",
    "total.loc[total.CityName=='United States'] = total.loc[total.CityName=='United States'].fillna('')\n",
    "total.shape\n",
    "# total.head(3)\n",
    "\n",
    "# rename columns to include more details for d3 to display\n",
    "new_columns = {'Annual Checkup':                          '1P:No Annual Checkup', \n",
    "               'Cholesterol Screening':                   '1P:No Cholesterol Screening',\n",
    "               'Colorectal Cancer Screening' :            '1P:No Colorectal Cancer Screening', \n",
    "               'Core preventive services for older men':  '1P:No Preventive services-older men',\n",
    "               'Core preventive services for older women':'1P:No Preventive services-older women',\n",
    "               'Dental Visit':                            '1P:No Dental Visit',\n",
    "               'Health Insurance':                        '1P:No Health Insurance',\n",
    "               'Mammography':                             '1P:No Mammography',\n",
    "               'Pap Smear Test':                          '1P:No Pap Smear Test',\n",
    "               'Taking BP Medication':                    '1P:Not Taking BP Medication',\n",
    "               'Binge Drinking':         '2B:Binge Drinking',\n",
    "               'Current Smoking':        '2B:Current Smoking',\n",
    "               'Obesity':                '2B:Obesity',\n",
    "               'Physical Inactivity':    '2B:Physical Inactivity',\n",
    "               'Sleep < 7 hours':        '2B:Sleep < 7 hours',\n",
    "               'Arthritis':              '3O:Arthritis',\n",
    "               'COPD':                   '3O:Chronic Pulmonary Disease',\n",
    "               'Cancer (except skin)':   '3O:Cancer',\n",
    "               'Chronic Kidney Disease': '3O:Chronic Kidney Disease',\n",
    "               'Coronary Heart Disease': '3O:Coronary Heart Disease',\n",
    "               'Current Asthma':         '3O:Asthma',\n",
    "               'Diabetes':               '3O:Diabetes',\n",
    "               'High Blood Pressure':    '3O:High Blood Pressure',\n",
    "               'High Cholesterol':       '3O:High Cholesterol',\n",
    "               'Mental Health':          '3O:Mental Health',\n",
    "               'Physical Health':        '3O:Physical Health',\n",
    "               'Stroke':                 '3O:Stroke',\n",
    "               'Teeth Loss':             '3O:All Teeth Lost',\n",
    "               'expectancy_top25':  '4L:Life Expectancy Top 25%:Life expectancy in years, Top Quartile Income',\n",
    "               'expectancy_bot25':  '4L:Life Expectancy Bot 25%:Life expectancy in years, Bottom Quartile Income',\n",
    "               'expectancy_avg':    '4L:Life Expectancy Average: Average Life Expectancy in Years',\n",
    "                }\n",
    "total = total.rename(columns=new_columns)\n",
    "\n",
    "# rename columns to include detailed description as appended to the above column name\n",
    "lookup = health_F[['Short_Question_Text','Measure']] \\\n",
    "                    .drop_duplicates().sort_values(['Short_Question_Text'])\n",
    "lookup['Short_Question_Text'] = lookup.Short_Question_Text.map(new_columns)\n",
    "lookup['Measure'] = lookup['Short_Question_Text'] + ':' + lookup.Measure\n",
    "lookup = lookup.set_index('Short_Question_Text')['Measure'].to_dict()\n",
    "total = total.rename(columns=lookup)\n",
    "\n",
    "# # Calculate overall preventative measure score by city\n",
    "# preventatives = total.columns[total.columns.str[1:3]=='P:']\n",
    "# for p in preventatives:  # reverse sign of preventative measures so ALL higher scores are bad\n",
    "#     total[p] = (100 - total[p]).round(1)\n",
    "# total['1p:PREVENTATIVE MEASURES AVG:Average of all preventative measures'] = total[preventatives].mean(axis=1).round(1)\n",
    "\n",
    "# # Calculate overall unhealthy behaviours score by city\n",
    "# behaviours = total.columns[total.columns.str[1:3]=='B:']\n",
    "# total['2b:UNHEALTHY BEHAVIOURS AVG:Average of all unhealty behaviours']   = total[behaviours].mean(axis=1).round(1)\n",
    "\n",
    "# # Calculate overall health outcomes score by city\n",
    "# outcomes = total.columns[total.columns.str[1:3]=='O:']\n",
    "# total['3o:HEALTH OUTCOMES AVG:Average of all health outcomes']     = total[outcomes].mean(axis=1).round(1)\n",
    "\n",
    "# Add Health Rank\n",
    "total = total.sort_values('health_score',ascending=False).reset_index(drop=True)\n",
    "total['health_rank'] = total.index+1\n",
    "total.index.name = 'id'\n",
    "\n",
    "# save to CSV file for d3\n",
    "total.to_csv('health.csv')\n",
    "\n",
    "# check for any rows with NaNs, should just be a few fields on the United States row\n",
    "total[total.isnull().any(axis=1)]"
   ]
  },
  {
   "cell_type": "code",
   "execution_count": null,
   "metadata": {
    "scrolled": false
   },
   "outputs": [],
   "source": []
  },
  {
   "cell_type": "code",
   "execution_count": null,
   "metadata": {},
   "outputs": [],
   "source": []
  },
  {
   "cell_type": "code",
   "execution_count": null,
   "metadata": {},
   "outputs": [],
   "source": []
  },
  {
   "cell_type": "code",
   "execution_count": null,
   "metadata": {},
   "outputs": [],
   "source": []
  },
  {
   "cell_type": "code",
   "execution_count": null,
   "metadata": {},
   "outputs": [],
   "source": []
  },
  {
   "cell_type": "code",
   "execution_count": null,
   "metadata": {},
   "outputs": [],
   "source": []
  },
  {
   "cell_type": "code",
   "execution_count": null,
   "metadata": {},
   "outputs": [],
   "source": []
  },
  {
   "cell_type": "code",
   "execution_count": null,
   "metadata": {},
   "outputs": [],
   "source": []
  },
  {
   "cell_type": "code",
   "execution_count": null,
   "metadata": {},
   "outputs": [],
   "source": []
  },
  {
   "cell_type": "code",
   "execution_count": null,
   "metadata": {},
   "outputs": [],
   "source": []
  },
  {
   "cell_type": "code",
   "execution_count": null,
   "metadata": {},
   "outputs": [],
   "source": []
  }
 ],
 "metadata": {
  "kernelspec": {
   "display_name": "Python 3",
   "language": "python",
   "name": "python3"
  },
  "language_info": {
   "codemirror_mode": {
    "name": "ipython",
    "version": 3
   },
   "file_extension": ".py",
   "mimetype": "text/x-python",
   "name": "python",
   "nbconvert_exporter": "python",
   "pygments_lexer": "ipython3",
   "version": "3.6.4"
  }
 },
 "nbformat": 4,
 "nbformat_minor": 2
}
